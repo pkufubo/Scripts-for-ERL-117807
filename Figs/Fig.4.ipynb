{
 "cells": [
  {
   "cell_type": "markdown",
   "id": "c8cb663e-12c4-44ea-b187-998ea8e3a6ff",
   "metadata": {},
   "source": [
    "将观测到的和四个“理想”实验的甲烷浓度分解成趋势和波动。然后根据最有指纹法判断趋势和波动是否能被检测到。"
   ]
  },
  {
   "cell_type": "code",
   "execution_count": 83,
   "id": "d8b80889-9430-41b4-8b66-eb2d323383ba",
   "metadata": {
    "tags": []
   },
   "outputs": [],
   "source": [
    "import numpy as np\n",
    "import pandas as pd\n",
    "import xarray as xr\n",
    "import matplotlib.pylab as plt\n",
    "import seaborn as sns\n",
    "import statsmodels.api as sm"
   ]
  },
  {
   "cell_type": "code",
   "execution_count": 84,
   "id": "00f0204b-85c7-460f-837e-cc2c289f55b1",
   "metadata": {
    "tags": []
   },
   "outputs": [],
   "source": [
    "import random\n",
    "from PyEMD import EMD, EEMD\n",
    "import pwlf"
   ]
  },
  {
   "cell_type": "code",
   "execution_count": 85,
   "id": "08690c88-deb1-43ed-81a6-5b0e9a5224bc",
   "metadata": {
    "tags": []
   },
   "outputs": [],
   "source": [
    "from scipy.stats import ttest_1samp,wilcoxon,binomtest "
   ]
  },
  {
   "cell_type": "code",
   "execution_count": null,
   "id": "f410b0ff-1031-46b9-b2c3-273e545f37ed",
   "metadata": {},
   "outputs": [],
   "source": []
  },
  {
   "cell_type": "markdown",
   "id": "bf8ecbde-a0d6-4296-b917-fa1ae9b9ad46",
   "metadata": {
    "tags": []
   },
   "source": [
    "# 趋势和波动分解"
   ]
  },
  {
   "cell_type": "code",
   "execution_count": 86,
   "id": "97ef1ee9-03ac-40b4-86d8-c5be312a8bc6",
   "metadata": {
    "tags": []
   },
   "outputs": [],
   "source": [
    "### EEMD ###\n",
    "\n",
    "def cal_trend_EEMD(y,index_list=[2]):\n",
    "    \n",
    "    # Assign EEMD to `eemd` variable\n",
    "    eemd = EEMD()\n",
    "\n",
    "    # Say we want detect extrema using parabolic method\n",
    "    emd = eemd.EMD\n",
    "    emd.extrema_detection=\"parabol\"\n",
    "\n",
    "    S = np.array(y)\n",
    "    t = np.arange(len(S))\n",
    "\n",
    "    # Execute EEMD on S\n",
    "    eIMFs = eemd.eemd(S, t)\n",
    "    nIMFs = eIMFs.shape[0]\n",
    "\n",
    "    trend = np.zeros_like(S)\n",
    "    for i in index_list:\n",
    "        trend += eIMFs[i]\n",
    "    trend = trend + (np.mean(y)-np.mean(trend))\n",
    "    var = S-trend\n",
    "    return np.array([trend,var])"
   ]
  },
  {
   "cell_type": "code",
   "execution_count": 87,
   "id": "d1dc307a-a664-48f7-b5e1-b862cb11daef",
   "metadata": {
    "tags": []
   },
   "outputs": [],
   "source": [
    "### 滑动平均 ###\n",
    "def cal_trend_MA(y):\n",
    "    y = np.array(y)\n",
    "    MA_WIN=5\n",
    "    temp = np.convolve(y, np.ones((MA_WIN,)), mode='valid') / MA_WIN\n",
    "    trend = np.concatenate([np.array([np.nan,np.nan]),temp,np.array([np.nan,np.nan])])\n",
    "    \n",
    "    trend[0] = np.mean(y[:3])\n",
    "    trend[1] = np.mean(y[:4])\n",
    "    trend[-1] = np.mean(y[-3:])\n",
    "    trend[-2] = np.mean(y[-4:])\n",
    "    \n",
    "    trend = trend + (np.nanmean(y)-np.nanmean(trend))\n",
    "    var = y-trend\n",
    "    return np.array([trend,var])\n",
    "\n",
    "# ### 滑动平均(笨拙书写) ###\n",
    "# def cal_trend_MA2(y):\n",
    "#     ma = []\n",
    "#     for i in range(len(y)):\n",
    "#         if i<=1 or i>=len(y)-2:\n",
    "#             ma.append(np.nan) \n",
    "#         else:\n",
    "#             ma.append(np.mean(y[i-2:i+3]))    \n",
    "#     trend = np.array(ma)\n",
    "#     var = y-trend\n",
    "#     return np.array([trend,var])"
   ]
  },
  {
   "cell_type": "code",
   "execution_count": 88,
   "id": "d78c3aab-3f5a-43de-afa0-1395bf5eb7f7",
   "metadata": {
    "tags": []
   },
   "outputs": [],
   "source": [
    "### 趋势线 ###\n",
    "def cal_trend_PWLF(y,num=2):\n",
    "    y = np.array(y)\n",
    "    x = np.arange(len(y))\n",
    "    my_pwlf = pwlf.PiecewiseLinFit(x, y)\n",
    "    # fit the data for four line segments\n",
    "    res = my_pwlf.fit(num)\n",
    "    # predict for the determined points\n",
    "    trend = my_pwlf.predict(x)\n",
    "    trend = trend + (np.mean(y)-np.mean(trend))\n",
    "    var = y-trend\n",
    "    return np.array([trend,var])"
   ]
  },
  {
   "cell_type": "markdown",
   "id": "bb42cc97-b7ef-4c7c-8a1b-daa5977c2d6f",
   "metadata": {
    "tags": []
   },
   "source": [
    "# 数据读入"
   ]
  },
  {
   "cell_type": "code",
   "execution_count": 89,
   "id": "dabdbcd5-634e-45b1-b7e4-69d86f0eed66",
   "metadata": {
    "tags": []
   },
   "outputs": [],
   "source": [
    "df = pd.read_csv('ex_data/concentration/ch4_incr.csv')[:-1]\n",
    "obs_data = df['inc']"
   ]
  },
  {
   "cell_type": "code",
   "execution_count": 90,
   "id": "bc4cbbfa-d44f-4a6b-b4e2-d6890516d00a",
   "metadata": {
    "tags": []
   },
   "outputs": [],
   "source": [
    "data = []\n",
    "for i in range(72):\n",
    "    text = 'results/ref/'+str(i+1)+'_ref.nc'\n",
    "    with xr.open_dataset(text) as TMP: \n",
    "        TMP = TMP.load()\n",
    "    data.append(TMP)\n",
    "sim_data = np.array([x.D_CH4.mean('config').diff('year')[2:] for x in data])"
   ]
  },
  {
   "cell_type": "code",
   "execution_count": 91,
   "id": "6eeaa633-268b-4099-bf14-6d3a2da4b950",
   "metadata": {
    "tags": []
   },
   "outputs": [],
   "source": [
    "data_without_emi = []\n",
    "for i in range(72):\n",
    "    text = 'results/none_but_one/emi/'+str(i+1)+'_ref.nc'\n",
    "    with xr.open_dataset(text) as TMP: \n",
    "        TMP = TMP.load()\n",
    "    data_without_emi.append(TMP)\n",
    "sim_emi_data = np.array([x.D_CH4.mean('config').diff('year')[2:] for x in data_without_emi])"
   ]
  },
  {
   "cell_type": "code",
   "execution_count": 92,
   "id": "cf2187f6-0d65-49bc-8b51-558f07bc8d1e",
   "metadata": {
    "tags": []
   },
   "outputs": [],
   "source": [
    "data_without_oh = []\n",
    "for i in range(72):\n",
    "    text = 'results/none_but_one/oh/'+str(i+1)+'_ref.nc'\n",
    "    with xr.open_dataset(text) as TMP: \n",
    "        TMP = TMP.load()\n",
    "    data_without_oh.append(TMP)\n",
    "sim_oh_data = np.array([x.D_CH4.mean('config').diff('year')[2:] for x in data_without_oh])"
   ]
  },
  {
   "cell_type": "code",
   "execution_count": 93,
   "id": "534fee95-4b99-4b02-90e9-6da50c2b0571",
   "metadata": {
    "tags": []
   },
   "outputs": [],
   "source": [
    "data_without_wet = []\n",
    "for i in range(72):\n",
    "    text = 'results/none_but_one/wet/'+str(i+1)+'_ref.nc'\n",
    "    with xr.open_dataset(text) as TMP: \n",
    "        TMP = TMP.load()\n",
    "    data_without_wet.append(TMP)\n",
    "sim_wet_data = np.array([x.D_CH4.mean('config').diff('year')[2:] for x in data_without_wet])"
   ]
  },
  {
   "cell_type": "code",
   "execution_count": 94,
   "id": "600db2c2-0f60-4cf3-b04c-ddc4041884fb",
   "metadata": {
    "tags": []
   },
   "outputs": [],
   "source": [
    "data_without_bio = []\n",
    "for i in range(72):\n",
    "    text = 'results/none_but_one/bio/'+str(i+1)+'_ref.nc'\n",
    "    with xr.open_dataset(text) as TMP: \n",
    "        TMP = TMP.load()\n",
    "    data_without_bio.append(TMP)\n",
    "sim_bio_data = np.array([x.D_CH4.mean('config').diff('year')[2:] for x in data_without_bio])"
   ]
  },
  {
   "cell_type": "markdown",
   "id": "653c151a-e727-4b9c-a931-e268c349f504",
   "metadata": {},
   "source": [
    "# 画图与数据分析"
   ]
  },
  {
   "cell_type": "code",
   "execution_count": 95,
   "id": "563a3584-cd67-4074-9862-448b4d820207",
   "metadata": {
    "tags": []
   },
   "outputs": [],
   "source": [
    "def OLS(obs,sim):\n",
    "    x = np.array(sim)\n",
    "    y = np.array(obs)\n",
    "    results = sm.OLS(y, x).fit()\n",
    "    return results"
   ]
  },
  {
   "cell_type": "markdown",
   "id": "f1f713f1-51db-4718-9091-77640c358b80",
   "metadata": {
    "tags": []
   },
   "source": [
    "## 趋势"
   ]
  },
  {
   "cell_type": "code",
   "execution_count": 96,
   "id": "5a1a00f1-c336-483a-b311-4cc75a57b1fa",
   "metadata": {
    "tags": []
   },
   "outputs": [],
   "source": [
    "trend_obs_EEMD = cal_trend_EEMD(obs_data)"
   ]
  },
  {
   "cell_type": "code",
   "execution_count": 97,
   "id": "42041dbe-95a3-41ef-a381-a79de7dfb20a",
   "metadata": {
    "tags": []
   },
   "outputs": [],
   "source": [
    "trend_all = []\n",
    "for i in range(72):\n",
    "    temp = cal_trend_EEMD(sim_data[i])\n",
    "    trend_all.append(temp)\n",
    "trend_all_EEMD = np.array(trend_all)"
   ]
  },
  {
   "cell_type": "code",
   "execution_count": 98,
   "id": "9b67acca-560f-4a7e-b0ae-d97cad79c183",
   "metadata": {
    "tags": []
   },
   "outputs": [],
   "source": [
    "params = []\n",
    "for i in range(72):\n",
    "    results = OLS(trend_obs_EEMD[0],trend_all_EEMD[i,0,:])\n",
    "    params.append(results.params)\n",
    "params_all_trend = np.array(params)\n",
    "\n",
    "params = []\n",
    "for i in range(72):\n",
    "    results = OLS(trend_obs_EEMD[1],trend_all_EEMD[i,1,:])\n",
    "    params.append(results.params)\n",
    "params_all_variability = np.array(params)"
   ]
  },
  {
   "cell_type": "code",
   "execution_count": 99,
   "id": "d40c13ca-5384-41bc-8949-8b29042f5714",
   "metadata": {
    "tags": []
   },
   "outputs": [],
   "source": [
    "trend_emi = []\n",
    "for i in range(72):\n",
    "    temp = cal_trend_EEMD(sim_emi_data[i])\n",
    "    trend_emi.append(temp)\n",
    "trend_emi_EEMD = np.array(trend_emi)\n",
    "\n",
    "trend_oh = []\n",
    "for i in range(72):\n",
    "    temp = cal_trend_EEMD(sim_oh_data[i])\n",
    "    trend_oh.append(temp)\n",
    "trend_oh_EEMD = np.array(trend_oh)\n",
    "\n",
    "trend_wet = []\n",
    "for i in range(72):\n",
    "    temp = cal_trend_EEMD(sim_wet_data[i])\n",
    "    trend_wet.append(temp)\n",
    "trend_wet_EEMD = np.array(trend_wet)\n",
    "\n",
    "trend_bio = []\n",
    "for i in range(72):\n",
    "    temp = cal_trend_EEMD(sim_bio_data[i])\n",
    "    trend_bio.append(temp)\n",
    "trend_bio_EEMD = np.array(trend_bio)"
   ]
  },
  {
   "cell_type": "code",
   "execution_count": 100,
   "id": "14c2f3da-d6d9-4b8d-bb88-8a896b5a43fa",
   "metadata": {
    "tags": []
   },
   "outputs": [],
   "source": [
    "params = []\n",
    "for i in range(72):\n",
    "    temp = np.array([trend_emi_EEMD[i,0,:],trend_oh_EEMD[i,0,:],trend_wet_EEMD[i,0,:],trend_bio_EEMD[i,0,:]])\n",
    "    results = OLS(trend_obs_EEMD[0],temp.T)  \n",
    "    params.append(results.params)\n",
    "params_trend = np.array(params)\n",
    "\n",
    "params = []\n",
    "\n",
    "for i in range(72):\n",
    "    temp = np.array([trend_emi_EEMD[i,1,:],trend_oh_EEMD[i,1,:],trend_wet_EEMD[i,1,:],trend_bio_EEMD[i,1,:]])\n",
    "    results = OLS(trend_obs_EEMD[1],temp.T) \n",
    "    params.append(results.params)\n",
    "\n",
    "params_variability = np.array(params)"
   ]
  },
  {
   "cell_type": "code",
   "execution_count": 107,
   "id": "32d66ef1-ca6e-47f7-be48-0e73e038192f",
   "metadata": {
    "tags": []
   },
   "outputs": [
    {
     "data": {
      "image/png": "[encoded data removed]",
      "text/plain": [
       "<Figure size 800x800 with 2 Axes>"
      ]
     },
     "metadata": {},
     "output_type": "display_data"
    }
   ],
   "source": [
    "trend = np.concatenate([params_all_trend.T,params_trend.T]).T\n",
    "variability = np.concatenate([params_all_variability.T,params_variability.T]).T\n",
    "\n",
    "fig=plt.figure(figsize=(8,8))\n",
    "ax1 = plt.subplot2grid((2,1),(0,0),rowspan=1)\n",
    "bplot = ax1.boxplot(trend,patch_artist=True)\n",
    "# temp = sns.violinplot(data=trend, bw_adjust=.5, cut=1, linewidth=1, palette=['#e7b58d','#e7b58d','#e7b58d','w','w'])\n",
    "ax1.set_title('(a)')\n",
    "\n",
    "for i in [0,1,]:\n",
    "    bplot['boxes'][i].set_facecolor('#e7b58d')\n",
    "    bplot['medians'][i].set_color('k')\n",
    "for i in [2,3,4]:\n",
    "    bplot['boxes'][i].set_facecolor('w')\n",
    "    bplot['medians'][i].set_color('k')\n",
    "\n",
    "\n",
    "drivers = ['$All$']+['$E_{ant}$','$OH$','$E_{wet}$','$E_{bio}$']\n",
    "ax1.set_xticklabels(drivers)\n",
    "\n",
    "ax1.plot([-5,6],[0,0],color='k',linestyle='--')\n",
    "ax1.set_xlim(0.5,5.5)\n",
    "\n",
    "floor,ceil = -13,11\n",
    "ax1.plot([1.5,1.5],[floor,ceil],linestyle='-',color='k',linewidth=1.2)\n",
    "ax1.set_ylim(floor,ceil)\n",
    "ax1.text(1,-12,'Trend',fontsize=15,ha= 'center',ma= 'center',\n",
    "        color='#e7b58d')\n",
    "ax1.set_ylabel('Scaling factor β',fontsize=15)\n",
    "##############\n",
    "##############\n",
    "ax2 = plt.subplot2grid((2,1),(1,0),rowspan=1)\n",
    "bplot = ax2.boxplot(variability,patch_artist=True)\n",
    "for i in [0,3,4]:\n",
    "    bplot['boxes'][i].set_facecolor('#8dcdbb')\n",
    "    bplot['medians'][i].set_color('k')\n",
    "for i in [1,2]:\n",
    "    bplot['boxes'][i].set_facecolor('w')\n",
    "    bplot['medians'][i].set_color('k')\n",
    "\n",
    "# sns.violinplot(data=variability, bw_adjust=.5, cut=1, linewidth=1, palette=['#8dcdbb','w','w','#8dcdbb','#8dcdbb'],linecolor=['k'])\n",
    "ax2.set_title('(b)')\n",
    "ax2.set_xticklabels(drivers)\n",
    "ax2.plot([-5,6],[0,0],color='k',linestyle='--')\n",
    "ax2.set_xlim(0.5,5.5)\n",
    "ax2.plot([1.5,1.5],[-4.8,5.5],linestyle='-',color='k',linewidth=1.2)\n",
    "ax2.set_ylim(-3,2)\n",
    "ax2.set_ylabel('Scaling factor β',fontsize=15)\n",
    "ax2.text(1,-2.8,'Variability',fontsize=15,ha= 'center',ma= 'center',\n",
    "        color='#8dcdbb')\n",
    "fig.savefig('figs/Fig.4/Fig.4.pdf',dpi=300)"
   ]
  },
  {
   "cell_type": "code",
   "execution_count": 102,
   "id": "cd37f8fe-c3f9-41cc-b258-0a6a6b3325ec",
   "metadata": {},
   "outputs": [
    {
     "name": "stdout",
     "output_type": "stream",
     "text": [
      "2.556284175653981\n",
      "0.006360149336367336\n"
     ]
    }
   ],
   "source": [
    "t,p = ttest_1samp( trend[:,4],0,alternative='greater')\n",
    "print(t)\n",
    "print(p)"
   ]
  },
  {
   "cell_type": "code",
   "execution_count": 103,
   "id": "c9752338-ef77-47a6-af18-472948cd8ee2",
   "metadata": {
    "tags": []
   },
   "outputs": [],
   "source": [
    "pos_n = np.sum(trend[:,4]>0)\n",
    "n = len(trend[:,4])\n",
    "p = binomtest(pos_n,n,p=0.5,alternative='greater')"
   ]
  },
  {
   "cell_type": "code",
   "execution_count": 104,
   "id": "08c46409-4049-4773-af2e-c7e901416fe7",
   "metadata": {
    "tags": []
   },
   "outputs": [
    {
     "data": {
      "text/plain": [
       "BinomTestResult(k=44, n=72, alternative='greater', statistic=0.6111111111111112, pvalue=0.038184577335915695)"
      ]
     },
     "execution_count": 104,
     "metadata": {},
     "output_type": "execute_result"
    }
   ],
   "source": [
    "binomtest(44,72,p=0.5,alternative='greater')"
   ]
  },
  {
   "cell_type": "code",
   "execution_count": 48,
   "id": "dbba041d-3857-4193-90a8-60879fffdff0",
   "metadata": {},
   "outputs": [
    {
     "name": "stdout",
     "output_type": "stream",
     "text": [
      "1844.0\n",
      "0.0014687794535207413\n"
     ]
    }
   ],
   "source": [
    "w,p = wilcoxon( trend[:,4],alternative='greater')\n",
    "print(w)\n",
    "print(p)"
   ]
  },
  {
   "cell_type": "markdown",
   "id": "291b83f1-a777-4f8c-934c-ae3a8ccd9975",
   "metadata": {
    "tags": []
   },
   "source": [
    "# MA"
   ]
  },
  {
   "cell_type": "code",
   "execution_count": 20,
   "id": "efbc03d2-3500-4836-bae1-1a449fdd2e4a",
   "metadata": {
    "tags": []
   },
   "outputs": [],
   "source": [
    "trend_obs_MA = cal_trend_MA(obs_data)"
   ]
  },
  {
   "cell_type": "code",
   "execution_count": 21,
   "id": "7b312fc5-2108-4d21-b80d-320aee50a6bc",
   "metadata": {
    "tags": []
   },
   "outputs": [],
   "source": [
    "trend_emi = []\n",
    "for i in range(72):\n",
    "    temp = cal_trend_MA(sim_emi_data[i])\n",
    "    trend_emi.append(temp)\n",
    "trend_emi_MA = np.array(trend_emi)\n",
    "\n",
    "trend_oh = []\n",
    "for i in range(72):\n",
    "    temp = cal_trend_MA(sim_oh_data[i])\n",
    "    trend_oh.append(temp)\n",
    "trend_oh_MA = np.array(trend_oh)\n",
    "\n",
    "trend_wet = []\n",
    "for i in range(72):\n",
    "    temp = cal_trend_MA(sim_wet_data[i])\n",
    "    trend_wet.append(temp)\n",
    "trend_wet_MA = np.array(trend_wet)\n",
    "\n",
    "trend_bio = []\n",
    "for i in range(72):\n",
    "    temp = cal_trend_MA(sim_bio_data[i])\n",
    "    trend_bio.append(temp)\n",
    "trend_bio_MA = np.array(trend_bio)"
   ]
  },
  {
   "cell_type": "code",
   "execution_count": 22,
   "id": "d8dd2302-adaa-4c1b-a4e1-b7fabe4b1c56",
   "metadata": {
    "tags": []
   },
   "outputs": [],
   "source": [
    "params = []\n",
    "for i in range(72):\n",
    "    temp = np.array([trend_emi_MA[i,0,:],trend_oh_MA[i,0,:],trend_wet_MA[i,0,:],trend_bio_MA[i,0,:]])\n",
    "    results = OLS(trend_obs_MA[0],temp.T)  \n",
    "    params.append(results.params)\n",
    "params_trend = np.array(params)\n",
    "\n",
    "params = []\n",
    "\n",
    "for i in range(72):\n",
    "    temp = np.array([trend_emi_MA[i,1,:],trend_oh_MA[i,1,:],trend_wet_MA[i,1,:],trend_bio_MA[i,1,:]])\n",
    "    results = OLS(trend_obs_MA[1],temp.T) \n",
    "    params.append(results.params)\n",
    "\n",
    "params_variability = np.array(params)"
   ]
  },
  {
   "cell_type": "code",
   "execution_count": 23,
   "id": "82ad2593-3f2c-48d5-8c30-37d718783a65",
   "metadata": {
    "tags": []
   },
   "outputs": [
    {
     "data": {
      "image/png": "[encoded data removed]",
      "text/plain": [
       "<Figure size 800x800 with 2 Axes>"
      ]
     },
     "metadata": {},
     "output_type": "display_data"
    }
   ],
   "source": [
    "trend = np.concatenate([params_all_trend.T,params_trend.T]).T\n",
    "variability = np.concatenate([params_all_variability.T,params_variability.T]).T\n",
    "\n",
    "fig=plt.figure(figsize=(8,8))\n",
    "ax1 = plt.subplot2grid((2,1),(0,0),rowspan=1)\n",
    "bplot = ax1.boxplot(trend,patch_artist=True)\n",
    "# temp = sns.violinplot(data=trend, bw_adjust=.5, cut=1, linewidth=1, palette=['#e7b58d','#e7b58d','#e7b58d','w','w'])\n",
    "ax1.set_title('(a)')\n",
    "\n",
    "for i in [0,1,2]:\n",
    "    bplot['boxes'][i].set_facecolor('#e7b58d')\n",
    "    bplot['medians'][i].set_color('k')\n",
    "for i in [3,4]:\n",
    "    bplot['boxes'][i].set_facecolor('w')\n",
    "    bplot['medians'][i].set_color('k')\n",
    "\n",
    "\n",
    "drivers = ['$All$']+['$E_{ant}$','$OH$','$E_{wet}$','$E_{bio}$']\n",
    "ax1.set_xticklabels(drivers)\n",
    "\n",
    "ax1.plot([-5,6],[0,0],color='k',linestyle='--')\n",
    "ax1.set_xlim(0.5,5.5)\n",
    "\n",
    "floor,ceil = -2,3\n",
    "ax1.plot([1.5,1.5],[floor,ceil],linestyle='-',color='k',linewidth=1.2)\n",
    "ax1.set_ylim(floor,ceil)\n",
    "ax1.text(1,-1,'Trend',fontsize=15,ha= 'center',ma= 'center',\n",
    "        color='#e7b58d')\n",
    "ax1.set_ylabel('Scaling factor β',fontsize=15)\n",
    "##############\n",
    "##############\n",
    "ax2 = plt.subplot2grid((2,1),(1,0),rowspan=1)\n",
    "bplot = ax2.boxplot(variability,patch_artist=True)\n",
    "for i in [0,3,4]:\n",
    "    bplot['boxes'][i].set_facecolor('#8dcdbb')\n",
    "    bplot['medians'][i].set_color('k')\n",
    "for i in [1,2]:\n",
    "    bplot['boxes'][i].set_facecolor('w')\n",
    "    bplot['medians'][i].set_color('k')\n",
    "\n",
    "# sns.violinplot(data=variability, bw_adjust=.5, cut=1, linewidth=1, palette=['#8dcdbb','w','w','#8dcdbb','#8dcdbb'],linecolor=['k'])\n",
    "ax2.set_title('(b)')\n",
    "ax2.set_xticklabels(drivers)\n",
    "ax2.plot([-5,6],[0,0],color='k',linestyle='--')\n",
    "ax2.set_xlim(0.5,5.5)\n",
    "ax2.plot([1.5,1.5],[-10,10],linestyle='-',color='k',linewidth=1.2)\n",
    "ax2.set_ylim(-5,5)\n",
    "ax2.set_ylabel('Scaling factor β',fontsize=15)\n",
    "ax2.text(1,-2.8,'Variability',fontsize=15,ha= 'center',ma= 'center',\n",
    "        color='#8dcdbb')\n",
    "fig.savefig('figs/Ext.Fig.2/MA.pdf',dpi=300)\n",
    "fig.savefig('figs/Ext.Fig.2/MA.jpg',dpi=300)"
   ]
  },
  {
   "cell_type": "code",
   "execution_count": null,
   "id": "2b537505-38c9-46a2-84da-b146fbc94a93",
   "metadata": {},
   "outputs": [],
   "source": []
  },
  {
   "cell_type": "markdown",
   "id": "212c1ae5-47dc-4601-8b82-54ac712a1e20",
   "metadata": {
    "tags": []
   },
   "source": [
    "# PWLF"
   ]
  },
  {
   "cell_type": "code",
   "execution_count": 43,
   "id": "2a1d32e5-f667-41f1-8730-fccfb5633fa3",
   "metadata": {
    "tags": []
   },
   "outputs": [],
   "source": [
    "trend_obs_PWLF = cal_trend_PWLF(obs_data)"
   ]
  },
  {
   "cell_type": "code",
   "execution_count": 44,
   "id": "1ab94721-bfcd-46ee-9936-739547513c13",
   "metadata": {
    "tags": []
   },
   "outputs": [],
   "source": [
    "trend_emi = []\n",
    "for i in range(72):\n",
    "    temp = cal_trend_PWLF(sim_emi_data[i])\n",
    "    trend_emi.append(temp)\n",
    "trend_emi_PWLF = np.array(trend_emi)\n",
    "\n",
    "trend_oh = []\n",
    "for i in range(72):\n",
    "    temp = cal_trend_PWLF(sim_oh_data[i])\n",
    "    trend_oh.append(temp)\n",
    "trend_oh_PWLF = np.array(trend_oh)\n",
    "\n",
    "trend_wet = []\n",
    "for i in range(72):\n",
    "    temp = cal_trend_PWLF(sim_wet_data[i])\n",
    "    trend_wet.append(temp)\n",
    "trend_wet_PWLF = np.array(trend_wet)\n",
    "\n",
    "trend_bio = []\n",
    "for i in range(72):\n",
    "    temp = cal_trend_PWLF(sim_bio_data[i])\n",
    "    trend_bio.append(temp)\n",
    "trend_bio_PWLF = np.array(trend_bio)"
   ]
  },
  {
   "cell_type": "code",
   "execution_count": 45,
   "id": "3553c7d6-b9de-4ce7-a70b-22f9157149e7",
   "metadata": {
    "tags": []
   },
   "outputs": [],
   "source": [
    "params = []\n",
    "for i in range(72):\n",
    "    temp = np.array([trend_emi_PWLF[i,0,:],trend_oh_PWLF[i,0,:],trend_wet_PWLF[i,0,:],trend_bio_PWLF[i,0,:]])\n",
    "    results = OLS(trend_obs_PWLF[0],temp.T)  \n",
    "    params.append(results.params)\n",
    "params_trend = np.array(params)\n",
    "\n",
    "params = []\n",
    "\n",
    "for i in range(72):\n",
    "    temp = np.array([trend_emi_PWLF[i,1,:],trend_oh_PWLF[i,1,:],trend_wet_PWLF[i,1,:],trend_bio_PWLF[i,1,:]])\n",
    "    results = OLS(trend_obs_PWLF[1],temp.T) \n",
    "    params.append(results.params)\n",
    "\n",
    "params_variability = np.array(params)"
   ]
  },
  {
   "cell_type": "code",
   "execution_count": 74,
   "id": "2aacdf90-89bf-4a2f-9ecf-6139f86918a7",
   "metadata": {
    "tags": []
   },
   "outputs": [
    {
     "data": {
      "image/png": "[encoded data removed]",
      "text/plain": [
       "<Figure size 800x800 with 2 Axes>"
      ]
     },
     "metadata": {},
     "output_type": "display_data"
    }
   ],
   "source": [
    "trend = np.concatenate([params_all_trend.T,params_trend.T]).T\n",
    "variability = np.concatenate([params_all_variability.T,params_variability.T]).T\n",
    "\n",
    "fig=plt.figure(figsize=(8,8))\n",
    "ax1 = plt.subplot2grid((2,1),(0,0),rowspan=1)\n",
    "bplot = ax1.boxplot(trend,patch_artist=True)\n",
    "# temp = sns.violinplot(data=trend, bw_adjust=.5, cut=1, linewidth=1, palette=['#e7b58d','#e7b58d','#e7b58d','w','w'])\n",
    "ax1.set_title('(a)')\n",
    "\n",
    "for i in [0,1,2]:\n",
    "    bplot['boxes'][i].set_facecolor('#e7b58d')\n",
    "    bplot['medians'][i].set_color('k')\n",
    "for i in [3,4]:\n",
    "    bplot['boxes'][i].set_facecolor('w')\n",
    "    bplot['medians'][i].set_color('k')\n",
    "\n",
    "\n",
    "drivers = ['$All$']+['$E_{ant}$','$OH$','$E_{wet}$','$E_{bio}$']\n",
    "ax1.set_xticklabels(drivers)\n",
    "\n",
    "ax1.plot([-5,6],[0,0],color='k',linestyle='--')\n",
    "ax1.set_xlim(0.5,5.5)\n",
    "\n",
    "floor,ceil = -4,3\n",
    "ax1.plot([1.5,1.5],[floor,ceil],linestyle='-',color='k',linewidth=1.2)\n",
    "ax1.set_ylim(floor,ceil)\n",
    "ax1.text(1,-3.8,'Trend',fontsize=15,ha= 'center',ma= 'center',\n",
    "        color='#e7b58d')\n",
    "ax1.set_ylabel('Scaling factor β',fontsize=15)\n",
    "##############\n",
    "##############\n",
    "ax2 = plt.subplot2grid((2,1),(1,0),rowspan=1)\n",
    "bplot = ax2.boxplot(variability,patch_artist=True)\n",
    "for i in [0,3,4,1]:\n",
    "    bplot['boxes'][i].set_facecolor('#8dcdbb')\n",
    "    bplot['medians'][i].set_color('k')\n",
    "for i in [2]:\n",
    "    bplot['boxes'][i].set_facecolor('w')\n",
    "    bplot['medians'][i].set_color('k')\n",
    "\n",
    "# sns.violinplot(data=variability, bw_adjust=.5, cut=1, linewidth=1, palette=['#8dcdbb','w','w','#8dcdbb','#8dcdbb'],linecolor=['k'])\n",
    "ax2.set_title('(b)')\n",
    "ax2.set_xticklabels(drivers)\n",
    "ax2.plot([-5,6],[0,0],color='k',linestyle='--')\n",
    "ax2.set_xlim(0.5,5.5)\n",
    "ax2.plot([1.5,1.5],[-10,10],linestyle='-',color='k',linewidth=1.2)\n",
    "ax2.set_ylim(-2,3)\n",
    "ax2.set_ylabel('Scaling factor β',fontsize=15)\n",
    "ax2.text(1,-1.8,'Variability',fontsize=15,ha= 'center',ma= 'center',\n",
    "        color='#8dcdbb')\n",
    "fig.savefig('figs/Ext.Fig.2/PWLF.pdf',dpi=300)\n",
    "fig.savefig('figs/Ext.Fig.2/PWLF.jpg',dpi=300)"
   ]
  }
 ],
 "metadata": {
  "kernelspec": {
   "display_name": "Python 3 (ipykernel)",
   "language": "python",
   "name": "python3"
  },
  "language_info": {
   "codemirror_mode": {
    "name": "ipython",
    "version": 3
   },
   "file_extension": ".py",
   "mimetype": "text/x-python",
   "name": "python",
   "nbconvert_exporter": "python",
   "pygments_lexer": "ipython3",
   "version": "3.11.4"
  }
 },
 "nbformat": 4,
 "nbformat_minor": 5
}
